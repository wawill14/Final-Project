{
  "nbformat": 4,
  "nbformat_minor": 0,
  "metadata": {
    "colab": {
      "provenance": [],
      "collapsed_sections": [],
      "authorship_tag": "ABX9TyPtnT47uh4hWw9xZEaTIAnF",
      "include_colab_link": true
    },
    "kernelspec": {
      "name": "python3",
      "display_name": "Python 3"
    },
    "language_info": {
      "name": "python"
    }
  },
  "cells": [
    {
      "cell_type": "markdown",
      "metadata": {
        "id": "view-in-github",
        "colab_type": "text"
      },
      "source": [
        "<a href=\"https://colab.research.google.com/github/wawill14/Final-Project/blob/main/PFDAFinalProject.ipynb\" target=\"_parent\"><img src=\"https://colab.research.google.com/assets/colab-badge.svg\" alt=\"Open In Colab\"/></a>"
      ]
    },
    {
      "cell_type": "code",
      "execution_count": 43,
      "metadata": {
        "id": "K6KLh4X29qDW"
      },
      "outputs": [],
      "source": [
        "# Upload necessary libraries \n",
        "from matplotlib import pyplot as plt\n",
        "import pandas as pd \n",
        "import numpy as np\n",
        "import statistics"
      ]
    },
    {
      "cell_type": "code",
      "source": [
        "# Upload csv from raw github url\n",
        "df = pd.read_csv(\"https://raw.githubusercontent.com/wawill14/Final-Project/main/Chess%20Game%20Stats.csv\",index_col=[\"game_id\"])\n",
        "df.head(25)"
      ],
      "metadata": {
        "id": "24pDbPLh9tMr"
      },
      "execution_count": null,
      "outputs": []
    },
    {
      "cell_type": "code",
      "source": [
        "# Drop columns for opening response, turns, time increment \n",
        "df.drop([\"opening_response\", \"turns\", \"time_increment\"],axis=1,inplace=True)"
      ],
      "metadata": {
        "id": "ZoLsRE2tLtpS"
      },
      "execution_count": 72,
      "outputs": []
    },
    {
      "cell_type": "code",
      "source": [
        "# Analysis of dataframe\n",
        "df.info()"
      ],
      "metadata": {
        "id": "4WAcyhXnBBlM"
      },
      "execution_count": null,
      "outputs": []
    },
    {
      "cell_type": "code",
      "source": [
        "# Printing number of rows and columns \n",
        "print('Number of columns: {}'.format(df.shape[1]))\n",
        "print('Number of rows: {}'.format(df.shape[0]))"
      ],
      "metadata": {
        "id": "g-gsMVKCCQL3"
      },
      "execution_count": null,
      "outputs": []
    },
    {
      "cell_type": "code",
      "source": [
        "# Summary stats of quantitative variables  \n",
        "stats_numeric = df.describe().astype(int)\n",
        "print(stats_numeric)"
      ],
      "metadata": {
        "id": "cjK40OCBiv95"
      },
      "execution_count": null,
      "outputs": []
    },
    {
      "cell_type": "code",
      "source": [
        "# Summary stats of categorical variables \n",
        "stats_categorical = df[['opening_shortname','victory_status', 'rated']].describe()\n",
        "print(stats_categorical)"
      ],
      "metadata": {
        "id": "22p2EJe4jZGa"
      },
      "execution_count": null,
      "outputs": []
    },
    {
      "cell_type": "code",
      "source": [
        "# Piechart showing proportion of results by color \n",
        "fig, ax = plt.subplots(figsize = (12,8))\n",
        "y = df['winner'].value_counts()\n",
        "mylabels = 'White', 'Black', 'Draw'\n",
        "# Add % label, set colors for slices \n",
        "plt.pie(y, autopct='%1.1f%%', colors = ['lightgrey', 'darkblue', 'cyan'], wedgeprops={'alpha':0.5})\n",
        "plt.title('Win Percentage by Color',fontsize=25)\n",
        "plt.legend(mylabels, fontsize=15)\n",
        "# Change chart background\n",
        "fig.set_facecolor('whitesmoke')\n",
        "plt.show()\n"
      ],
      "metadata": {
        "id": "gr8BgddeEnck"
      },
      "execution_count": null,
      "outputs": []
    },
    {
      "cell_type": "code",
      "source": [
        "# Top 5 opening moves for white when they won\n",
        "df[\"opening_move_white\"]=df[\"moves\"].str.slice(0,3)\n",
        "white=df[df[\"winner\"]==\"White\"].opening_move_white.value_counts().nlargest(5)\n",
        "\n",
        "# Barchart of top 5 of white opening moves in winning matches\n",
        "white.plot(kind=\"barh\")\n",
        "# Rotate x-labels 30 degrees, text aligned horizontally\n",
        "plt.xticks(rotation=45, horizontalalignment=\"center\")\n",
        "plt.title(\"Top Opening Moves for White in Winning Matches\")\n",
        "plt.xlabel(\"Wins\")\n",
        "plt.ylabel(\"Opening Moves\")\n",
        "plt.show()\n",
        "\n",
        "# Top 5 opening moves for black in winning matches\n",
        "df[\"opening_move_black\"]=df[\"moves\"].str.slice(3,6)\n",
        "black=df[df[\"winner\"]==\"Black\"].opening_move_black.value_counts().nlargest(5)\n",
        "\n",
        "# Barchart of top 5 black opening moves in winning matches\n",
        "black.plot(kind=\"barh\")\n",
        "plt.xticks(rotation=45, horizontalalignment=\"center\")\n",
        "plt.title(\"Top Opening Moves for Black in Winning Matches\")\n",
        "plt.xlabel(\"Wins\")\n",
        "plt.ylabel(\"Opening Moves\")\n",
        "plt.show()\n"
      ],
      "metadata": {
        "id": "DKNHbcyKMGHZ"
      },
      "execution_count": null,
      "outputs": []
    },
    {
      "cell_type": "code",
      "source": [
        "# Top 5 opening lines for white in winning matches\n",
        "df[\"opening_sn_white\"]=df[\"opening_shortname\"]\n",
        "white_lines=df[df[\"winner\"]==\"White\"].opening_sn_white.value_counts().nlargest(5)\n",
        "\n",
        "# Barchart white winningest opening lines\n",
        "white_lines.plot(kind=\"barh\")\n",
        "# Rotate the x-labels by 30 degrees, and keep the text aligned horizontally\n",
        "plt.xticks(rotation=45, horizontalalignment=\"center\")\n",
        "plt.title(\"Top Opening Lines for White in Winning Matches\")\n",
        "plt.xlabel(\"Wins\")\n",
        "plt.ylabel(\"Opening Name\")\n",
        "plt.show()\n",
        "\n",
        "# Top 5 opening lines for black in winning matches \n",
        "df[\"opening_sn_white\"]=df[\"opening_shortname\"]\n",
        "black_lines=df[df[\"winner\"]==\"Black\"].opening_sn_white.value_counts().nlargest(5)\n",
        "\n",
        "# Barchart black winningest opening lines\n",
        "black_lines.plot(kind=\"barh\")\n",
        "# Rotate the x-labels by 30 degrees, and keep the text aligned horizontally\n",
        "plt.xticks(rotation=45, horizontalalignment=\"center\")\n",
        "plt.title(\"Top Opening Lines for Black in Winning Matches\")\n",
        "plt.xlabel(\"Wins\")\n",
        "plt.ylabel(\"Opening Name\")\n",
        "plt.show()"
      ],
      "metadata": {
        "id": "FrydETUTZRne"
      },
      "execution_count": null,
      "outputs": []
    },
    {
      "cell_type": "code",
      "source": [
        "# Histogram of ratings with white and black pieces \n",
        "\n",
        "# White \n",
        "df.hist('white_rating', bins=10)\n",
        "plt.title(\"Ratings Distribution of Players with White Pieces\")\n",
        "plt.xlabel(\"Rating\")\n",
        "plt.ylabel(\"Number of Players\")\n",
        "plt.show()\n",
        "\n",
        "# Black \n",
        "df.hist('black_rating', bins=10)\n",
        "plt.title(\"Ratings Distribution of Players with Black Pieces\")\n",
        "plt.xlabel(\"Rating\")\n",
        "plt.ylabel(\"Number of Players\")\n",
        "plt.show()\n",
        "\n",
        "# Scatterplot of white and black ratings \n",
        "fig, ax = plt.subplots(figsize=(8,8))\n",
        "ax.scatter(x = df['white_rating'], y = df['black_rating'], marker = \".\")\n",
        "plt.xlabel(\"White Rating\")\n",
        "plt.ylabel(\"Black Rating\")\n",
        "plt.title(\"Black and White Rating\")\n",
        "plt.show()\n",
        "\n",
        "# Correlation bewteen ratings for black and white pieces \n",
        "p = df['white_rating']\n",
        "q = df['black_rating']\n",
        "correlation = np.corrcoef(p, q)\n",
        "print(\"\\nThe correlation between white and black ratings is: \\n\", correlation)"
      ],
      "metadata": {
        "id": "rjO3xOowedfi"
      },
      "execution_count": null,
      "outputs": []
    },
    {
      "cell_type": "code",
      "source": [
        "# Finding games with large variance in ratings between players \n",
        "df['rating_gap_white'] = True\n",
        "df['rating_gap_black'] = True \n",
        "\n",
        "# Create new columns for games with more than 2 standard deviations (291 for both black and white ratings) between player ratings\n",
        "df['rating_gap_white'] = np.where((df['white_rating'] - df['black_rating']) > 291, df['rating_gap_white'], np.nan)\n",
        "df['rating_gap_black'] = np.where((df['black_rating'] - df['white_rating']) > 291, df['rating_gap_black'], np.nan)\n",
        "\n",
        "# New dataframe with only games with ratings variance in favor of white\n",
        "rating_gap_white_df= df.loc[df['rating_gap_white']==True] \n",
        "print(rating_gap_white_df[['white_id', 'white_rating', 'black_rating']])\n",
        "\n",
        "# New dataframe with only games with ratings variance in favor of black\n",
        "rating_gap_black_df= df.loc[df['rating_gap_black']==True]\n",
        "print(rating_gap_black_df[['black_id', 'black_rating', 'white_rating']])"
      ],
      "metadata": {
        "id": "e-ZLwcjeDprO"
      },
      "execution_count": null,
      "outputs": []
    },
    {
      "cell_type": "code",
      "source": [
        "# Piechart showing proportion of results when rating gap favoring white  \n",
        "fig, ax = plt.subplots(figsize = (12,8))\n",
        "y = rating_gap_white_df['winner'].value_counts()\n",
        "mylabels = 'White', 'Black', 'Draw'\n",
        "plt.pie(y, autopct='%1.1f%%', colors = ['lightgrey', 'darkblue', 'cyan'], wedgeprops={'alpha':0.5})\n",
        "plt.title('Win Percentage w/ Rating Gap Favoring White',fontsize=25)\n",
        "plt.legend(mylabels, fontsize=15)\n",
        "fig.set_facecolor('whitesmoke')\n",
        "plt.show()\n",
        "\n",
        "# Piechart showing proportion of results when rating gap favoring black  \n",
        "fig, ax = plt.subplots(figsize = (12,8))\n",
        "y = rating_gap_black_df['winner'].value_counts()\n",
        "mylabels = 'Black', 'White', 'Draw' \n",
        "plt.pie(y, autopct='%1.1f%%', colors = ['darkblue', 'lightgrey', 'cyan'], wedgeprops={'alpha':0.5})\n",
        "plt.title('Win Percentage w/ Rating Gap Favoring Black',fontsize=25)\n",
        "plt.legend(mylabels, fontsize=15)\n",
        "fig.set_facecolor('lightsteelblue')\n",
        "plt.show()\n"
      ],
      "metadata": {
        "id": "r-hHpEEDuG_O"
      },
      "execution_count": null,
      "outputs": []
    }
  ]
}